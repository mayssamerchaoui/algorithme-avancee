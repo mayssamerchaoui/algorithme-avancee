{
 "cells": [
  {
   "cell_type": "code",
   "execution_count": 6,
   "metadata": {},
   "outputs": [],
   "source": []
  },
  {
   "cell_type": "code",
   "execution_count": 1,
   "metadata": {},
   "outputs": [
    {
     "name": "stdout",
     "output_type": "stream",
     "text": [
      "Entrer le nombre de reine\n",
      "5\n",
      "['Y1', 0, 0, 0, 0]\n",
      "[0, 0, 'Y2', 0, 0]\n",
      "[0, 0, 0, 0, 'Y3']\n",
      "[0, 'Y4', 0, 0, 0]\n",
      "[0, 0, 0, 'Y5', 0]\n"
     ]
    }
   ],
   "source": [
    "\n",
    "print (\"Entrer le nombre de reine\")\n",
    "N = int(input())\n",
    "\n",
    "#lire N\n",
    "#inisialiser le MATRICE PAR DES 0\n",
    "TAB = [[0]*N for _ in range(N)]\n",
    "#ce fonction determine si en peut mettre une reinne dans cette position ou non\n",
    "def est_prise(i, j):\n",
    "    #vérifier s’il y a une reine dans la ligne ou la colonne\n",
    "    for k in range(0,N):\n",
    "        if TAB[i][k]== 1:\n",
    "            return True\n",
    "    for Z in range(0,N):\n",
    "        if TAB[Z][j]== 1:\n",
    "            return True\n",
    "    \n",
    "    #vérifier les diagonals\n",
    "    for k in range(0,N):\n",
    "        for Y in range(0,N):\n",
    "            if  (k-Y==i-j) or (k+Y==i+j):\n",
    "                if TAB[k][Y]==1:\n",
    "                    return True\n",
    "    return False\n",
    "\n",
    "def N_reinne(n):\n",
    "    #si n = 0 solution obtenu\n",
    "    if n==0:\n",
    "        return True\n",
    "    for i in range(0,N):\n",
    "        for j in range(0,N):\n",
    "            '''checking if we can place a queen here or not\n",
    "            queen will not be placed if the place is being attacked\n",
    "            or already occupied'''\n",
    "            if (not(est_prise(i,j))) and (TAB[i][j]!=1):\n",
    "                TAB[i][j] = 1\n",
    "                #placer une reine\n",
    "                #recursivité\n",
    "              \n",
    "                if N_reinne(n-1)==True:\n",
    "                    return True\n",
    "                TAB[i][j] = 0\n",
    "\n",
    "    return False\n",
    "#appel de la procedure N_reinne \n",
    "N_reinne(N)\n",
    "#changer les 1 par le numero de reines ('Y',i)\n",
    "t=0\n",
    "for i in range(0,N):\n",
    "    for j in range(0,N):\n",
    "        if (TAB[i][j] == 1):\n",
    "            t+=1\n",
    "            p=\"Y\"+str(t)\n",
    "            TAB[i][j] = p\n",
    "#affichage\n",
    "for i in TAB:\n",
    "    \n",
    "    print (i)"
   ]
  },
  {
   "cell_type": "code",
   "execution_count": null,
   "metadata": {},
   "outputs": [],
   "source": [
    "\n",
    "\n"
   ]
  },
  {
   "cell_type": "code",
   "execution_count": null,
   "metadata": {},
   "outputs": [],
   "source": []
  }
 ],
 "metadata": {
  "kernelspec": {
   "display_name": "Python 3",
   "language": "python",
   "name": "python3"
  },
  "language_info": {
   "codemirror_mode": {
    "name": "ipython",
    "version": 3
   },
   "file_extension": ".py",
   "mimetype": "text/x-python",
   "name": "python",
   "nbconvert_exporter": "python",
   "pygments_lexer": "ipython3",
   "version": "3.8.3"
  }
 },
 "nbformat": 4,
 "nbformat_minor": 4
}
